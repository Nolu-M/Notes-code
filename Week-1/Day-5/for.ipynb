{
 "cells": [
  {
   "cell_type": "code",
   "execution_count": 1,
   "metadata": {},
   "outputs": [
    {
     "name": "stdout",
     "output_type": "stream",
     "text": [
      "1\n",
      "2\n",
      "3\n",
      "4\n"
     ]
    }
   ],
   "source": [
    "#For\n",
    "myList = [1,2,3,4]\n",
    "for item in myList:\n",
    "    print(item)"
   ]
  },
  {
   "cell_type": "code",
   "execution_count": 7,
   "metadata": {},
   "outputs": [],
   "source": [
    "#Pass\n",
    "animalLookup = {\n",
    "    'a': ['aardvark', 'antelope'],\n",
    "    'b': ['bear'],\n",
    "    'c': ['cat'],\n",
    "    'd': ['dog'],\n",
    "}\n",
    "\n",
    "for letter, animals in animalLookup.items():\n",
    "    pass"
   ]
  },
  {
   "cell_type": "code",
   "execution_count": 9,
   "metadata": {},
   "outputs": [
    {
     "name": "stdout",
     "output_type": "stream",
     "text": [
      "Only one animal! bear\n",
      "Only one animal! cat\n",
      "Only one animal! dog\n"
     ]
    }
   ],
   "source": [
    "#Continue\n",
    "for letter, animals in animalLookup.items():\n",
    "    if len(animals) > 1:\n",
    "        continue\n",
    "    print(f'Only one animal! {animals[0]}')"
   ]
  },
  {
   "cell_type": "code",
   "execution_count": 8,
   "metadata": {},
   "outputs": [
    {
     "name": "stdout",
     "output_type": "stream",
     "text": [
      "found 2 animals: ['aardvark', 'antelope']\n"
     ]
    }
   ],
   "source": [
    "#Break\n",
    "for letter, animals in animalLookup.items():\n",
    "    if len(animals) > 1:\n",
    "        print(f'found {len(animals)} animals: {animals}')\n",
    "        break"
   ]
  }
 ],
 "metadata": {
  "kernelspec": {
   "display_name": "Python 3",
   "language": "python",
   "name": "python3"
  },
  "language_info": {
   "codemirror_mode": {
    "name": "ipython",
    "version": 3
   },
   "file_extension": ".py",
   "mimetype": "text/x-python",
   "name": "python",
   "nbconvert_exporter": "python",
   "pygments_lexer": "ipython3",
   "version": "3.12.2"
  }
 },
 "nbformat": 4,
 "nbformat_minor": 2
}
