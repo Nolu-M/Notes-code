{
 "cells": [
  {
   "cell_type": "code",
   "execution_count": 1,
   "metadata": {},
   "outputs": [
    {
     "name": "stdout",
     "output_type": "stream",
     "text": [
      "1\n",
      "2\n",
      "3\n",
      "4\n",
      "5\n"
     ]
    }
   ],
   "source": [
    "i = 1\n",
    "while i < 6:\n",
    "    print(i)\n",
    "    i += 1\n",
    "\n",
    "#The loop will continue executing the code inside as long as the condition `i < 6` is true. loop will\n",
    "#run until while the value of `i` is less than 6. print(i) prints the current value of `i` to the console.\n",
    "#`i += 1` increments the value of `i` by 1. Shorthand for `i = i + 1`, ensures that i will eventually become \n",
    "#greater than or equal to 6, causing the loop to terminate. When this code is executed it will print the numbers 1 through 5,\n",
    "#because it starts with `1` being 1 and increments it by 1 each time the loop runs until `1`\n",
    "#becomes 6, at which point the lopp stops.\n"
   ]
  },
  {
   "cell_type": "code",
   "execution_count": 2,
   "metadata": {},
   "outputs": [
    {
     "name": "stdout",
     "output_type": "stream",
     "text": [
      "1\n",
      "2\n",
      "3\n"
     ]
    }
   ],
   "source": [
    "i = 1\n",
    "while i < 6:\n",
    "    print(i)\n",
    "    if i == 3:\n",
    "        break\n",
    "    i += 1\n",
    "\n",
    "\n",
    "#`while i < 6` starts the loop which will continue executing the code inside it as long as the condition is true.\n",
    "#It will run while the value of `i` is less than 6. `print(i)` will print the current value of `i` to the console.\n",
    "#`if i === 3` checks if the value of `i` is equal to 3 and `break` looks to see if the value of `i` is equal to 3, if it is \n",
    "#then the statement `break` is executed. This statement exits the loop regardless of whether the loop condition is still true\n",
    "#or not. Shorthand for `i = i + 1`, ensures that i will eventually become  greater than or equal to 6, causing the loop to terminate.\n"
   ]
  },
  {
   "cell_type": "code",
   "execution_count": null,
   "metadata": {},
   "outputs": [],
   "source": [
    "i = 1\n",
    "while i < 6:\n",
    "    print(i)\n",
    "    if i == 3:\n",
    "        pass\n",
    "    i += 1\n",
    "    \n",
    "#`pass`: if the value of `i` is qual to 3, the `pass` statement is executed. This is a null operation, so nothing happens when it executes. it is used when a statement is syntactically required but you don't want to\n",
    "#execute any code. So, when this code is executed, it will print the numbers 1 through 5, each on a new line. \n",
    "#When i equals 3, the if condition i == 3 is true, and the pass statement is executed, doing nothing to change the control flow of the loop.\n"
   ]
  },
  {
   "cell_type": "code",
   "execution_count": null,
   "metadata": {},
   "outputs": [],
   "source": [
    "i = 1\n",
    "while i < 6:\n",
    "    print(i)\n",
    "    if i == 3:\n",
    "        continue\n",
    "    i += 1\n",
    "\n",
    "\n",
    "#continue: If the value of i is equal to 3, the continue statement is executed. \n",
    "#The continue statement in Python causes the loop to skip the rest of its body and jump to the next iteration. \n",
    "#In this case, if i is equal to 3, it skips the incrementing step (i += 1) and goes back to the top of the loop."
   ]
  }
 ],
 "metadata": {
  "kernelspec": {
   "display_name": "Python 3",
   "language": "python",
   "name": "python3"
  },
  "language_info": {
   "codemirror_mode": {
    "name": "ipython",
    "version": 3
   },
   "file_extension": ".py",
   "mimetype": "text/x-python",
   "name": "python",
   "nbconvert_exporter": "python",
   "pygments_lexer": "ipython3",
   "version": "3.12.2"
  }
 },
 "nbformat": 4,
 "nbformat_minor": 2
}
