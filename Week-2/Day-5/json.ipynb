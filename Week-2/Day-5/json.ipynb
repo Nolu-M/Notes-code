{
 "cells": [
  {
   "cell_type": "code",
   "execution_count": null,
   "metadata": {},
   "outputs": [],
   "source": [
    "import json\n"
   ]
  },
  {
   "cell_type": "code",
   "execution_count": null,
   "metadata": {},
   "outputs": [],
   "source": [
    "jsonString = '{\"a\":\"apple\", \"b\":\"bear\", \"c\":\"cat\"}'\n",
    "try:\n",
    "    json.loads(jsonString)\n",
    "except JSONDecodeError:\n",
    "    print('Could not parse JSON')"
   ]
  }
 ],
 "metadata": {
  "kernelspec": {
   "display_name": "Python 3",
   "language": "python",
   "name": "python3"
  },
  "language_info": {
   "name": "python",
   "version": "3.12.2"
  }
 },
 "nbformat": 4,
 "nbformat_minor": 2
}
