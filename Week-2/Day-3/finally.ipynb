{
 "cells": [
  {
   "cell_type": "code",
   "execution_count": 1,
   "metadata": {},
   "outputs": [
    {
     "name": "stdout",
     "output_type": "stream",
     "text": [
      "There will always execute!\n"
     ]
    },
    {
     "data": {
      "text/plain": [
       "1.0"
      ]
     },
     "execution_count": 1,
     "metadata": {},
     "output_type": "execute_result"
    }
   ],
   "source": [
    "def causeError():\n",
    "    try:\n",
    "        return 1/1\n",
    "    except Exception:\n",
    "        print('There was some sort of error!')\n",
    "    finally:\n",
    "        print('There will always execute!')\n",
    "\n",
    "causeError()"
   ]
  },
  {
   "cell_type": "code",
   "execution_count": 3,
   "metadata": {},
   "outputs": [
    {
     "name": "stdout",
     "output_type": "stream",
     "text": [
      "There was some sort of error!\n",
      "Function took 0.5015561580657959 seconds to execute\n"
     ]
    }
   ],
   "source": [
    "import time\n",
    "\n",
    "def causeError():\n",
    "    start = time.time()\n",
    "    try:\n",
    "        time.sleep(0.5)\n",
    "        return 1/0\n",
    "    except Exception:\n",
    "        print('There was some sort of error!')\n",
    "    finally:\n",
    "        print(f'Function took {time.time() - start} seconds to execute')\n",
    "\n",
    "causeError()"
   ]
  },
  {
   "cell_type": "code",
   "execution_count": null,
   "metadata": {},
   "outputs": [],
   "source": [
    "# an f-string (formatted string literal) is a way to embed expressions inside string literals, using a minimal syntax.\n",
    "# The basic syntax of an f-string is to prefix the string literal with the letter 'f' or 'F' and then write expressions inside curly braces {} within the string. "
   ]
  }
 ],
 "metadata": {
  "kernelspec": {
   "display_name": "Python 3",
   "language": "python",
   "name": "python3"
  },
  "language_info": {
   "codemirror_mode": {
    "name": "ipython",
    "version": 3
   },
   "file_extension": ".py",
   "mimetype": "text/x-python",
   "name": "python",
   "nbconvert_exporter": "python",
   "pygments_lexer": "ipython3",
   "version": "3.12.0"
  }
 },
 "nbformat": 4,
 "nbformat_minor": 2
}
